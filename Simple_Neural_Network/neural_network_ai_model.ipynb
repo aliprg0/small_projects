{
  "nbformat": 4,
  "nbformat_minor": 0,
  "metadata": {
    "colab": {
      "name": "neural network_ai_model.ipynb",
      "provenance": []
    },
    "kernelspec": {
      "name": "python3",
      "display_name": "Python 3"
    },
    "language_info": {
      "name": "python"
    }
  },
  "cells": [
    {
      "cell_type": "code",
      "metadata": {
        "id": "Nb6fedazZFAa"
      },
      "source": [
        ""
      ],
      "execution_count": null,
      "outputs": []
    },
    {
      "cell_type": "code",
      "metadata": {
        "id": "dZz6fPgQmKjP"
      },
      "source": [
        "from sklearn.datasets import load_diabetes\n",
        "\n",
        "data = load_diabetes()"
      ],
      "execution_count": 1,
      "outputs": []
    },
    {
      "cell_type": "code",
      "metadata": {
        "colab": {
          "base_uri": "https://localhost:8080/"
        },
        "id": "t57HrW-Cm1k1",
        "outputId": "1a14bc1b-cd3d-49c0-f8bb-fb4ac43a8e8a"
      },
      "source": [
        "dir(data)"
      ],
      "execution_count": 2,
      "outputs": [
        {
          "output_type": "execute_result",
          "data": {
            "text/plain": [
              "['DESCR',\n",
              " 'data',\n",
              " 'data_filename',\n",
              " 'data_module',\n",
              " 'feature_names',\n",
              " 'frame',\n",
              " 'target',\n",
              " 'target_filename']"
            ]
          },
          "metadata": {},
          "execution_count": 2
        }
      ]
    },
    {
      "cell_type": "code",
      "metadata": {
        "colab": {
          "base_uri": "https://localhost:8080/"
        },
        "id": "U8U891s2nYmn",
        "outputId": "a5400ad3-d88b-45e9-c32d-920eb5170aa9"
      },
      "source": [
        "import pandas as pd\n",
        "\n",
        "data.data.shape"
      ],
      "execution_count": 3,
      "outputs": [
        {
          "output_type": "execute_result",
          "data": {
            "text/plain": [
              "(442, 10)"
            ]
          },
          "metadata": {},
          "execution_count": 3
        }
      ]
    },
    {
      "cell_type": "code",
      "metadata": {
        "id": "-5AKC_eYnxyK"
      },
      "source": [
        ""
      ],
      "execution_count": 3,
      "outputs": []
    },
    {
      "cell_type": "code",
      "metadata": {
        "id": "EBj__4D0oqJc"
      },
      "source": [
        "from sklearn.model_selection import train_test_split\n",
        "\n",
        "xtrain, xtest , ytrain , ytest = train_test_split(data.data , data.target , test_size = 0.1)"
      ],
      "execution_count": 4,
      "outputs": []
    },
    {
      "cell_type": "code",
      "metadata": {
        "id": "03qwVal5o2yq"
      },
      "source": [
        "from sklearn.ensemble import RandomForestClassifier\n",
        "\n",
        "mdl = RandomForestClassifier()"
      ],
      "execution_count": 5,
      "outputs": []
    },
    {
      "cell_type": "code",
      "metadata": {
        "colab": {
          "base_uri": "https://localhost:8080/"
        },
        "id": "DBraoiGPrIfF",
        "outputId": "f0549b82-2b72-47f3-d6a7-402a0bae9a9b"
      },
      "source": [
        "mdl.fit(xtrain,ytrain)"
      ],
      "execution_count": 6,
      "outputs": [
        {
          "output_type": "execute_result",
          "data": {
            "text/plain": [
              "RandomForestClassifier()"
            ]
          },
          "metadata": {},
          "execution_count": 6
        }
      ]
    },
    {
      "cell_type": "code",
      "metadata": {
        "colab": {
          "base_uri": "https://localhost:8080/"
        },
        "id": "MEEZ7Fc8rK-n",
        "outputId": "a901e04f-531f-4870-ef36-bc5d058743f2"
      },
      "source": [
        "mdl.score(xtest,ytest)"
      ],
      "execution_count": 7,
      "outputs": [
        {
          "output_type": "execute_result",
          "data": {
            "text/plain": [
              "0.0"
            ]
          },
          "metadata": {},
          "execution_count": 7
        }
      ]
    },
    {
      "cell_type": "code",
      "metadata": {
        "id": "T_jZ61OHrvOt"
      },
      "source": [
        "from sklearn.linear_model import LinearRegression"
      ],
      "execution_count": 8,
      "outputs": []
    },
    {
      "cell_type": "code",
      "metadata": {
        "id": "iGh68uQxr0bY"
      },
      "source": [
        "model = LinearRegression()"
      ],
      "execution_count": 9,
      "outputs": []
    },
    {
      "cell_type": "code",
      "metadata": {
        "colab": {
          "base_uri": "https://localhost:8080/"
        },
        "id": "J2Fk4h71r26q",
        "outputId": "f2e7f750-427f-4eda-e5d8-83c8c2d60f5f"
      },
      "source": [
        "model.fit(xtrain,ytrain)"
      ],
      "execution_count": 10,
      "outputs": [
        {
          "output_type": "execute_result",
          "data": {
            "text/plain": [
              "LinearRegression()"
            ]
          },
          "metadata": {},
          "execution_count": 10
        }
      ]
    },
    {
      "cell_type": "code",
      "metadata": {
        "colab": {
          "base_uri": "https://localhost:8080/"
        },
        "id": "GvjQX1gyr56f",
        "outputId": "4de4d82f-e26b-4128-9e99-7f8850c8c32c"
      },
      "source": [
        "model.score(xtest,ytest)"
      ],
      "execution_count": 11,
      "outputs": [
        {
          "output_type": "execute_result",
          "data": {
            "text/plain": [
              "0.37467478656605"
            ]
          },
          "metadata": {},
          "execution_count": 11
        }
      ]
    },
    {
      "cell_type": "code",
      "metadata": {
        "id": "WpkpQ4CRsWGC"
      },
      "source": [
        "from sklearn.svm import SVC"
      ],
      "execution_count": 12,
      "outputs": []
    },
    {
      "cell_type": "code",
      "metadata": {
        "id": "8LT8-malseAD"
      },
      "source": [
        "nn = SVC()"
      ],
      "execution_count": 13,
      "outputs": []
    },
    {
      "cell_type": "code",
      "metadata": {
        "colab": {
          "base_uri": "https://localhost:8080/"
        },
        "id": "VjB-rEMDsjeE",
        "outputId": "3de28aec-dda4-4b3a-9863-67323dc7408c"
      },
      "source": [
        "nn.fit(xtrain,ytrain)"
      ],
      "execution_count": 14,
      "outputs": [
        {
          "output_type": "execute_result",
          "data": {
            "text/plain": [
              "SVC()"
            ]
          },
          "metadata": {},
          "execution_count": 14
        }
      ]
    },
    {
      "cell_type": "code",
      "metadata": {
        "colab": {
          "base_uri": "https://localhost:8080/"
        },
        "id": "6xOEkPiOsl-h",
        "outputId": "68fb7b45-ed74-4d39-cc49-d1ef2eabe61f"
      },
      "source": [
        "nn.score(xtest,ytest)"
      ],
      "execution_count": 15,
      "outputs": [
        {
          "output_type": "execute_result",
          "data": {
            "text/plain": [
              "0.0"
            ]
          },
          "metadata": {},
          "execution_count": 15
        }
      ]
    },
    {
      "cell_type": "code",
      "metadata": {
        "id": "5BFd_PnPtrzv"
      },
      "source": [
        "from keras.layers import Dense\n",
        "from keras.models import Sequential"
      ],
      "execution_count": 16,
      "outputs": []
    },
    {
      "cell_type": "code",
      "metadata": {
        "id": "LHLi2CtyuUr6"
      },
      "source": [
        "ai = Sequential()"
      ],
      "execution_count": 17,
      "outputs": []
    },
    {
      "cell_type": "code",
      "metadata": {
        "id": "T3nawrKxuYr_"
      },
      "source": [
        "ai.add(Dense(32,input_dim=10,activation=\"relu\"))\n",
        "ai.add(Dense(32,activation=\"relu\"))\n",
        "ai.add(Dense(16,activation=\"relu\"))\n",
        "ai.add(Dense(1,activation=\"sigmoid\"))"
      ],
      "execution_count": 18,
      "outputs": []
    },
    {
      "cell_type": "code",
      "metadata": {
        "id": "_0PRc_jNv3UH"
      },
      "source": [
        "ai.compile(loss=\"mse\",optimizer=\"adam\",metrics=['mae'])"
      ],
      "execution_count": 19,
      "outputs": []
    },
    {
      "cell_type": "code",
      "metadata": {
        "colab": {
          "base_uri": "https://localhost:8080/"
        },
        "id": "a_QpL8oNuooV",
        "outputId": "8ef506e6-1335-4676-8c9c-580f30f863fb"
      },
      "source": [
        "ai.fit(xtrain,ytrain,epochs=200,batch_size=15)"
      ],
      "execution_count": 21,
      "outputs": [
        {
          "output_type": "stream",
          "name": "stdout",
          "text": [
            "Epoch 1/200\n",
            "27/27 [==============================] - 0s 6ms/step - loss: 29421.0977 - mae: 153.0076\n",
            "Epoch 2/200\n",
            "27/27 [==============================] - 0s 4ms/step - loss: 29421.0977 - mae: 153.0076\n",
            "Epoch 3/200\n",
            "27/27 [==============================] - 0s 4ms/step - loss: 29421.0977 - mae: 153.0076\n",
            "Epoch 4/200\n",
            "27/27 [==============================] - 0s 4ms/step - loss: 29421.0977 - mae: 153.0076\n",
            "Epoch 5/200\n",
            "27/27 [==============================] - 0s 5ms/step - loss: 29421.0977 - mae: 153.0076\n",
            "Epoch 6/200\n",
            "27/27 [==============================] - 0s 5ms/step - loss: 29421.0977 - mae: 153.0076\n",
            "Epoch 7/200\n",
            "27/27 [==============================] - 0s 5ms/step - loss: 29421.0977 - mae: 153.0076\n",
            "Epoch 8/200\n",
            "27/27 [==============================] - 0s 5ms/step - loss: 29421.0977 - mae: 153.0076\n",
            "Epoch 9/200\n",
            "27/27 [==============================] - 0s 4ms/step - loss: 29421.0977 - mae: 153.0076\n",
            "Epoch 10/200\n",
            "27/27 [==============================] - 0s 5ms/step - loss: 29421.0977 - mae: 153.0076\n",
            "Epoch 11/200\n",
            "27/27 [==============================] - 0s 6ms/step - loss: 29421.0977 - mae: 153.0076\n",
            "Epoch 12/200\n",
            "27/27 [==============================] - 0s 5ms/step - loss: 29421.0977 - mae: 153.0076\n",
            "Epoch 13/200\n",
            "27/27 [==============================] - 0s 4ms/step - loss: 29421.0977 - mae: 153.0076\n",
            "Epoch 14/200\n",
            "27/27 [==============================] - 0s 5ms/step - loss: 29421.0977 - mae: 153.0076\n",
            "Epoch 15/200\n",
            "27/27 [==============================] - 0s 4ms/step - loss: 29421.0977 - mae: 153.0076\n",
            "Epoch 16/200\n",
            "27/27 [==============================] - 0s 6ms/step - loss: 29421.0977 - mae: 153.0076\n",
            "Epoch 17/200\n",
            "27/27 [==============================] - 0s 10ms/step - loss: 29421.0977 - mae: 153.0076\n",
            "Epoch 18/200\n",
            "27/27 [==============================] - 0s 10ms/step - loss: 29421.0977 - mae: 153.0076\n",
            "Epoch 19/200\n",
            "27/27 [==============================] - 0s 4ms/step - loss: 29421.0977 - mae: 153.0076\n",
            "Epoch 20/200\n",
            "27/27 [==============================] - 0s 4ms/step - loss: 29421.0977 - mae: 153.0076\n",
            "Epoch 21/200\n",
            "27/27 [==============================] - 0s 5ms/step - loss: 29421.0977 - mae: 153.0076\n",
            "Epoch 22/200\n",
            "27/27 [==============================] - 0s 4ms/step - loss: 29421.0977 - mae: 153.0076\n",
            "Epoch 23/200\n",
            "27/27 [==============================] - 0s 4ms/step - loss: 29421.0977 - mae: 153.0076\n",
            "Epoch 24/200\n",
            "27/27 [==============================] - 0s 5ms/step - loss: 29421.0977 - mae: 153.0076\n",
            "Epoch 25/200\n",
            "27/27 [==============================] - 0s 4ms/step - loss: 29421.0977 - mae: 153.0076\n",
            "Epoch 26/200\n",
            "27/27 [==============================] - 0s 5ms/step - loss: 29421.0977 - mae: 153.0076\n",
            "Epoch 27/200\n",
            "27/27 [==============================] - 0s 7ms/step - loss: 29421.0977 - mae: 153.0076\n",
            "Epoch 28/200\n",
            "27/27 [==============================] - 0s 5ms/step - loss: 29421.0977 - mae: 153.0076\n",
            "Epoch 29/200\n",
            "27/27 [==============================] - 0s 5ms/step - loss: 29421.0977 - mae: 153.0076\n",
            "Epoch 30/200\n",
            "27/27 [==============================] - 0s 4ms/step - loss: 29421.0977 - mae: 153.0076\n",
            "Epoch 31/200\n",
            "27/27 [==============================] - 0s 4ms/step - loss: 29421.0977 - mae: 153.0076\n",
            "Epoch 32/200\n",
            "27/27 [==============================] - 0s 4ms/step - loss: 29421.0977 - mae: 153.0076\n",
            "Epoch 33/200\n",
            "27/27 [==============================] - 0s 7ms/step - loss: 29421.0977 - mae: 153.0076\n",
            "Epoch 34/200\n",
            "27/27 [==============================] - 0s 4ms/step - loss: 29421.0977 - mae: 153.0076\n",
            "Epoch 35/200\n",
            "27/27 [==============================] - 0s 4ms/step - loss: 29421.0977 - mae: 153.0076\n",
            "Epoch 36/200\n",
            "27/27 [==============================] - 0s 4ms/step - loss: 29421.0977 - mae: 153.0076\n",
            "Epoch 37/200\n",
            "27/27 [==============================] - 0s 7ms/step - loss: 29421.0977 - mae: 153.0076\n",
            "Epoch 38/200\n",
            "27/27 [==============================] - 0s 5ms/step - loss: 29421.0977 - mae: 153.0076\n",
            "Epoch 39/200\n",
            "27/27 [==============================] - 0s 6ms/step - loss: 29421.0977 - mae: 153.0076\n",
            "Epoch 40/200\n",
            "27/27 [==============================] - 0s 4ms/step - loss: 29421.0977 - mae: 153.0076\n",
            "Epoch 41/200\n",
            "27/27 [==============================] - 0s 4ms/step - loss: 29421.0977 - mae: 153.0076\n",
            "Epoch 42/200\n",
            "27/27 [==============================] - 0s 4ms/step - loss: 29421.0977 - mae: 153.0076\n",
            "Epoch 43/200\n",
            "27/27 [==============================] - 0s 4ms/step - loss: 29421.0977 - mae: 153.0076\n",
            "Epoch 44/200\n",
            "27/27 [==============================] - 0s 4ms/step - loss: 29421.0977 - mae: 153.0076\n",
            "Epoch 45/200\n",
            "27/27 [==============================] - 0s 4ms/step - loss: 29421.0977 - mae: 153.0076\n",
            "Epoch 46/200\n",
            "27/27 [==============================] - 0s 4ms/step - loss: 29421.0977 - mae: 153.0076\n",
            "Epoch 47/200\n",
            "27/27 [==============================] - 0s 4ms/step - loss: 29421.0977 - mae: 153.0076\n",
            "Epoch 48/200\n",
            "27/27 [==============================] - 0s 6ms/step - loss: 29421.0977 - mae: 153.0076\n",
            "Epoch 49/200\n",
            "27/27 [==============================] - 0s 6ms/step - loss: 29421.0977 - mae: 153.0076\n",
            "Epoch 50/200\n",
            "27/27 [==============================] - 0s 7ms/step - loss: 29421.0977 - mae: 153.0076\n",
            "Epoch 51/200\n",
            "27/27 [==============================] - 0s 4ms/step - loss: 29421.0977 - mae: 153.0076\n",
            "Epoch 52/200\n",
            "27/27 [==============================] - 0s 4ms/step - loss: 29421.0977 - mae: 153.0076\n",
            "Epoch 53/200\n",
            "27/27 [==============================] - 0s 4ms/step - loss: 29421.0977 - mae: 153.0076\n",
            "Epoch 54/200\n",
            "27/27 [==============================] - 0s 4ms/step - loss: 29421.0977 - mae: 153.0076\n",
            "Epoch 55/200\n",
            "27/27 [==============================] - 0s 6ms/step - loss: 29421.0977 - mae: 153.0076\n",
            "Epoch 56/200\n",
            "27/27 [==============================] - 0s 5ms/step - loss: 29421.0977 - mae: 153.0076\n",
            "Epoch 57/200\n",
            "27/27 [==============================] - 0s 4ms/step - loss: 29421.0977 - mae: 153.0076\n",
            "Epoch 58/200\n",
            "27/27 [==============================] - 0s 8ms/step - loss: 29421.0977 - mae: 153.0076\n",
            "Epoch 59/200\n",
            "27/27 [==============================] - 0s 6ms/step - loss: 29421.0977 - mae: 153.0076\n",
            "Epoch 60/200\n",
            "27/27 [==============================] - 0s 6ms/step - loss: 29421.0977 - mae: 153.0076\n",
            "Epoch 61/200\n",
            "27/27 [==============================] - 0s 7ms/step - loss: 29421.0977 - mae: 153.0076\n",
            "Epoch 62/200\n",
            "27/27 [==============================] - 0s 7ms/step - loss: 29421.0977 - mae: 153.0076\n",
            "Epoch 63/200\n",
            "27/27 [==============================] - 0s 8ms/step - loss: 29421.0977 - mae: 153.0076\n",
            "Epoch 64/200\n",
            "27/27 [==============================] - 0s 7ms/step - loss: 29421.0977 - mae: 153.0076\n",
            "Epoch 65/200\n",
            "27/27 [==============================] - 0s 7ms/step - loss: 29421.0977 - mae: 153.0076\n",
            "Epoch 66/200\n",
            "27/27 [==============================] - 0s 7ms/step - loss: 29421.0977 - mae: 153.0076\n",
            "Epoch 67/200\n",
            "27/27 [==============================] - 0s 4ms/step - loss: 29421.0977 - mae: 153.0076\n",
            "Epoch 68/200\n",
            "27/27 [==============================] - 0s 4ms/step - loss: 29421.0977 - mae: 153.0076\n",
            "Epoch 69/200\n",
            "27/27 [==============================] - 0s 6ms/step - loss: 29421.0977 - mae: 153.0076\n",
            "Epoch 70/200\n",
            "27/27 [==============================] - 0s 5ms/step - loss: 29421.0977 - mae: 153.0076\n",
            "Epoch 71/200\n",
            "27/27 [==============================] - 0s 6ms/step - loss: 29421.0977 - mae: 153.0076\n",
            "Epoch 72/200\n",
            "27/27 [==============================] - 0s 6ms/step - loss: 29421.0977 - mae: 153.0076\n",
            "Epoch 73/200\n",
            "27/27 [==============================] - 0s 5ms/step - loss: 29421.0977 - mae: 153.0076\n",
            "Epoch 74/200\n",
            "27/27 [==============================] - 0s 6ms/step - loss: 29421.0977 - mae: 153.0076\n",
            "Epoch 75/200\n",
            "27/27 [==============================] - 0s 7ms/step - loss: 29421.0977 - mae: 153.0076\n",
            "Epoch 76/200\n",
            "27/27 [==============================] - 0s 6ms/step - loss: 29421.0977 - mae: 153.0076\n",
            "Epoch 77/200\n",
            "27/27 [==============================] - 0s 5ms/step - loss: 29421.0977 - mae: 153.0076\n",
            "Epoch 78/200\n",
            "27/27 [==============================] - 0s 5ms/step - loss: 29421.0977 - mae: 153.0076\n",
            "Epoch 79/200\n",
            "27/27 [==============================] - 0s 3ms/step - loss: 29421.0977 - mae: 153.0076\n",
            "Epoch 80/200\n",
            "27/27 [==============================] - 0s 5ms/step - loss: 29421.0977 - mae: 153.0076\n",
            "Epoch 81/200\n",
            "27/27 [==============================] - 0s 6ms/step - loss: 29421.0977 - mae: 153.0076\n",
            "Epoch 82/200\n",
            "27/27 [==============================] - 0s 7ms/step - loss: 29421.0977 - mae: 153.0076\n",
            "Epoch 83/200\n",
            "27/27 [==============================] - 0s 6ms/step - loss: 29421.0977 - mae: 153.0076\n",
            "Epoch 84/200\n",
            "27/27 [==============================] - 0s 6ms/step - loss: 29421.0977 - mae: 153.0076\n",
            "Epoch 85/200\n",
            "27/27 [==============================] - 0s 9ms/step - loss: 29421.0977 - mae: 153.0076\n",
            "Epoch 86/200\n",
            "27/27 [==============================] - 0s 7ms/step - loss: 29421.0977 - mae: 153.0076\n",
            "Epoch 87/200\n",
            "27/27 [==============================] - 0s 7ms/step - loss: 29421.0977 - mae: 153.0076\n",
            "Epoch 88/200\n",
            "27/27 [==============================] - 0s 5ms/step - loss: 29421.0977 - mae: 153.0076\n",
            "Epoch 89/200\n",
            "27/27 [==============================] - 0s 4ms/step - loss: 29421.0977 - mae: 153.0076\n",
            "Epoch 90/200\n",
            "27/27 [==============================] - 0s 5ms/step - loss: 29421.0977 - mae: 153.0076\n",
            "Epoch 91/200\n",
            "27/27 [==============================] - 0s 6ms/step - loss: 29421.0977 - mae: 153.0076\n",
            "Epoch 92/200\n",
            "27/27 [==============================] - 0s 4ms/step - loss: 29421.0977 - mae: 153.0076\n",
            "Epoch 93/200\n",
            "27/27 [==============================] - 0s 5ms/step - loss: 29421.0977 - mae: 153.0076\n",
            "Epoch 94/200\n",
            "27/27 [==============================] - 0s 6ms/step - loss: 29421.0977 - mae: 153.0076\n",
            "Epoch 95/200\n",
            "27/27 [==============================] - 0s 4ms/step - loss: 29421.0977 - mae: 153.0076\n",
            "Epoch 96/200\n",
            "27/27 [==============================] - 0s 4ms/step - loss: 29421.0977 - mae: 153.0076\n",
            "Epoch 97/200\n",
            "27/27 [==============================] - 0s 5ms/step - loss: 29421.0977 - mae: 153.0076\n",
            "Epoch 98/200\n",
            "27/27 [==============================] - 0s 6ms/step - loss: 29421.0977 - mae: 153.0076\n",
            "Epoch 99/200\n",
            "27/27 [==============================] - 0s 8ms/step - loss: 29421.0977 - mae: 153.0076\n",
            "Epoch 100/200\n",
            "27/27 [==============================] - 0s 5ms/step - loss: 29421.0977 - mae: 153.0076\n",
            "Epoch 101/200\n",
            "27/27 [==============================] - 0s 6ms/step - loss: 29421.0977 - mae: 153.0076\n",
            "Epoch 102/200\n",
            "27/27 [==============================] - 0s 6ms/step - loss: 29421.0977 - mae: 153.0076\n",
            "Epoch 103/200\n",
            "27/27 [==============================] - 0s 5ms/step - loss: 29421.0977 - mae: 153.0076\n",
            "Epoch 104/200\n",
            "27/27 [==============================] - 0s 4ms/step - loss: 29421.0977 - mae: 153.0076\n",
            "Epoch 105/200\n",
            "27/27 [==============================] - 0s 7ms/step - loss: 29421.0977 - mae: 153.0076\n",
            "Epoch 106/200\n",
            "27/27 [==============================] - 0s 5ms/step - loss: 29421.0977 - mae: 153.0076\n",
            "Epoch 107/200\n",
            "27/27 [==============================] - 0s 4ms/step - loss: 29421.0977 - mae: 153.0076\n",
            "Epoch 108/200\n",
            "27/27 [==============================] - 0s 3ms/step - loss: 29421.0977 - mae: 153.0076\n",
            "Epoch 109/200\n",
            "27/27 [==============================] - 0s 2ms/step - loss: 29421.0977 - mae: 153.0076\n",
            "Epoch 110/200\n",
            "27/27 [==============================] - 0s 3ms/step - loss: 29421.0977 - mae: 153.0076\n",
            "Epoch 111/200\n",
            "27/27 [==============================] - 0s 7ms/step - loss: 29421.0977 - mae: 153.0076\n",
            "Epoch 112/200\n",
            "27/27 [==============================] - 0s 6ms/step - loss: 29421.0977 - mae: 153.0076\n",
            "Epoch 113/200\n",
            "27/27 [==============================] - 0s 6ms/step - loss: 29421.0977 - mae: 153.0076\n",
            "Epoch 114/200\n",
            "27/27 [==============================] - 0s 4ms/step - loss: 29421.0977 - mae: 153.0076\n",
            "Epoch 115/200\n",
            "27/27 [==============================] - 0s 4ms/step - loss: 29421.0977 - mae: 153.0076\n",
            "Epoch 116/200\n",
            "27/27 [==============================] - 0s 5ms/step - loss: 29421.0977 - mae: 153.0076\n",
            "Epoch 117/200\n",
            "27/27 [==============================] - 0s 3ms/step - loss: 29421.0977 - mae: 153.0076\n",
            "Epoch 118/200\n",
            "27/27 [==============================] - 0s 7ms/step - loss: 29421.0977 - mae: 153.0076\n",
            "Epoch 119/200\n",
            "27/27 [==============================] - 0s 3ms/step - loss: 29421.0977 - mae: 153.0076\n",
            "Epoch 120/200\n",
            "27/27 [==============================] - 0s 5ms/step - loss: 29421.0977 - mae: 153.0076\n",
            "Epoch 121/200\n",
            "27/27 [==============================] - 0s 4ms/step - loss: 29421.0977 - mae: 153.0076\n",
            "Epoch 122/200\n",
            "27/27 [==============================] - 0s 4ms/step - loss: 29421.0977 - mae: 153.0076\n",
            "Epoch 123/200\n",
            "27/27 [==============================] - 0s 4ms/step - loss: 29421.0977 - mae: 153.0076\n",
            "Epoch 124/200\n",
            "27/27 [==============================] - 0s 5ms/step - loss: 29421.0977 - mae: 153.0076\n",
            "Epoch 125/200\n",
            "27/27 [==============================] - 0s 4ms/step - loss: 29421.0977 - mae: 153.0076\n",
            "Epoch 126/200\n",
            "27/27 [==============================] - 0s 5ms/step - loss: 29421.0977 - mae: 153.0076\n",
            "Epoch 127/200\n",
            "27/27 [==============================] - 0s 7ms/step - loss: 29421.0977 - mae: 153.0076\n",
            "Epoch 128/200\n",
            "27/27 [==============================] - 0s 6ms/step - loss: 29421.0977 - mae: 153.0076\n",
            "Epoch 129/200\n",
            "27/27 [==============================] - 0s 5ms/step - loss: 29421.0977 - mae: 153.0076\n",
            "Epoch 130/200\n",
            "27/27 [==============================] - 0s 6ms/step - loss: 29421.0977 - mae: 153.0076\n",
            "Epoch 131/200\n",
            "27/27 [==============================] - 0s 6ms/step - loss: 29421.0977 - mae: 153.0076\n",
            "Epoch 132/200\n",
            "27/27 [==============================] - 0s 5ms/step - loss: 29421.0977 - mae: 153.0076\n",
            "Epoch 133/200\n",
            "27/27 [==============================] - 0s 6ms/step - loss: 29421.0977 - mae: 153.0076\n",
            "Epoch 134/200\n",
            "27/27 [==============================] - 0s 7ms/step - loss: 29421.0977 - mae: 153.0076\n",
            "Epoch 135/200\n",
            "27/27 [==============================] - 0s 7ms/step - loss: 29421.0977 - mae: 153.0076\n",
            "Epoch 136/200\n",
            "27/27 [==============================] - 0s 4ms/step - loss: 29421.0977 - mae: 153.0076\n",
            "Epoch 137/200\n",
            "27/27 [==============================] - 0s 6ms/step - loss: 29421.0977 - mae: 153.0076\n",
            "Epoch 138/200\n",
            "27/27 [==============================] - 0s 4ms/step - loss: 29421.0977 - mae: 153.0076\n",
            "Epoch 139/200\n",
            "27/27 [==============================] - 0s 6ms/step - loss: 29421.0977 - mae: 153.0076\n",
            "Epoch 140/200\n",
            "27/27 [==============================] - 0s 6ms/step - loss: 29421.0977 - mae: 153.0076\n",
            "Epoch 141/200\n",
            "27/27 [==============================] - 0s 4ms/step - loss: 29421.0977 - mae: 153.0076\n",
            "Epoch 142/200\n",
            "27/27 [==============================] - 0s 7ms/step - loss: 29421.0977 - mae: 153.0076\n",
            "Epoch 143/200\n",
            "27/27 [==============================] - 0s 5ms/step - loss: 29421.0977 - mae: 153.0076\n",
            "Epoch 144/200\n",
            "27/27 [==============================] - 0s 4ms/step - loss: 29421.0977 - mae: 153.0076\n",
            "Epoch 145/200\n",
            "27/27 [==============================] - 0s 3ms/step - loss: 29421.0977 - mae: 153.0076\n",
            "Epoch 146/200\n",
            "27/27 [==============================] - 0s 4ms/step - loss: 29421.0977 - mae: 153.0076\n",
            "Epoch 147/200\n",
            "27/27 [==============================] - 0s 5ms/step - loss: 29421.0977 - mae: 153.0076\n",
            "Epoch 148/200\n",
            "27/27 [==============================] - 0s 4ms/step - loss: 29421.0977 - mae: 153.0076\n",
            "Epoch 149/200\n",
            "27/27 [==============================] - 0s 5ms/step - loss: 29421.0977 - mae: 153.0076\n",
            "Epoch 150/200\n",
            "27/27 [==============================] - 0s 4ms/step - loss: 29421.0977 - mae: 153.0076\n",
            "Epoch 151/200\n",
            "27/27 [==============================] - 0s 5ms/step - loss: 29421.0977 - mae: 153.0076\n",
            "Epoch 152/200\n",
            "27/27 [==============================] - 0s 6ms/step - loss: 29421.0977 - mae: 153.0076\n",
            "Epoch 153/200\n",
            "27/27 [==============================] - 0s 5ms/step - loss: 29421.0977 - mae: 153.0076\n",
            "Epoch 154/200\n",
            "27/27 [==============================] - 0s 6ms/step - loss: 29421.0977 - mae: 153.0076\n",
            "Epoch 155/200\n",
            "27/27 [==============================] - 0s 4ms/step - loss: 29421.0977 - mae: 153.0076\n",
            "Epoch 156/200\n",
            "27/27 [==============================] - 0s 4ms/step - loss: 29421.0977 - mae: 153.0076\n",
            "Epoch 157/200\n",
            "27/27 [==============================] - 0s 4ms/step - loss: 29421.0977 - mae: 153.0076\n",
            "Epoch 158/200\n",
            "27/27 [==============================] - 0s 5ms/step - loss: 29421.0977 - mae: 153.0076\n",
            "Epoch 159/200\n",
            "27/27 [==============================] - 0s 5ms/step - loss: 29421.0977 - mae: 153.0076\n",
            "Epoch 160/200\n",
            "27/27 [==============================] - 0s 5ms/step - loss: 29421.0977 - mae: 153.0076\n",
            "Epoch 161/200\n",
            "27/27 [==============================] - 0s 5ms/step - loss: 29421.0977 - mae: 153.0076\n",
            "Epoch 162/200\n",
            "27/27 [==============================] - 0s 4ms/step - loss: 29421.0977 - mae: 153.0076\n",
            "Epoch 163/200\n",
            "27/27 [==============================] - 0s 5ms/step - loss: 29421.0977 - mae: 153.0076\n",
            "Epoch 164/200\n",
            "27/27 [==============================] - 0s 6ms/step - loss: 29421.0977 - mae: 153.0076\n",
            "Epoch 165/200\n",
            "27/27 [==============================] - 0s 4ms/step - loss: 29421.0977 - mae: 153.0076\n",
            "Epoch 166/200\n",
            "27/27 [==============================] - 0s 4ms/step - loss: 29421.0977 - mae: 153.0076\n",
            "Epoch 167/200\n",
            "27/27 [==============================] - 0s 5ms/step - loss: 29421.0977 - mae: 153.0076\n",
            "Epoch 168/200\n",
            "27/27 [==============================] - 0s 5ms/step - loss: 29421.0977 - mae: 153.0076\n",
            "Epoch 169/200\n",
            "27/27 [==============================] - 0s 5ms/step - loss: 29421.0977 - mae: 153.0076\n",
            "Epoch 170/200\n",
            "27/27 [==============================] - 0s 4ms/step - loss: 29421.0977 - mae: 153.0076\n",
            "Epoch 171/200\n",
            "27/27 [==============================] - 0s 5ms/step - loss: 29421.0977 - mae: 153.0076\n",
            "Epoch 172/200\n",
            "27/27 [==============================] - 0s 5ms/step - loss: 29421.0977 - mae: 153.0076\n",
            "Epoch 173/200\n",
            "27/27 [==============================] - 0s 5ms/step - loss: 29421.0977 - mae: 153.0076\n",
            "Epoch 174/200\n",
            "27/27 [==============================] - 0s 5ms/step - loss: 29421.0977 - mae: 153.0076\n",
            "Epoch 175/200\n",
            "27/27 [==============================] - 0s 4ms/step - loss: 29421.0977 - mae: 153.0076\n",
            "Epoch 176/200\n",
            "27/27 [==============================] - 0s 2ms/step - loss: 29421.0977 - mae: 153.0076\n",
            "Epoch 177/200\n",
            "27/27 [==============================] - 0s 3ms/step - loss: 29421.0977 - mae: 153.0076\n",
            "Epoch 178/200\n",
            "27/27 [==============================] - 0s 2ms/step - loss: 29421.0977 - mae: 153.0076\n",
            "Epoch 179/200\n",
            "27/27 [==============================] - 0s 2ms/step - loss: 29421.0977 - mae: 153.0076\n",
            "Epoch 180/200\n",
            "27/27 [==============================] - 0s 3ms/step - loss: 29421.0977 - mae: 153.0076\n",
            "Epoch 181/200\n",
            "27/27 [==============================] - 0s 2ms/step - loss: 29421.0977 - mae: 153.0076\n",
            "Epoch 182/200\n",
            "27/27 [==============================] - 0s 2ms/step - loss: 29421.0977 - mae: 153.0076\n",
            "Epoch 183/200\n",
            "27/27 [==============================] - 0s 3ms/step - loss: 29421.0977 - mae: 153.0076\n",
            "Epoch 184/200\n",
            "27/27 [==============================] - 0s 2ms/step - loss: 29421.0977 - mae: 153.0076\n",
            "Epoch 185/200\n",
            "27/27 [==============================] - 0s 3ms/step - loss: 29421.0977 - mae: 153.0076\n",
            "Epoch 186/200\n",
            "27/27 [==============================] - 0s 3ms/step - loss: 29421.0977 - mae: 153.0076\n",
            "Epoch 187/200\n",
            "27/27 [==============================] - 0s 2ms/step - loss: 29421.0977 - mae: 153.0076\n",
            "Epoch 188/200\n",
            "27/27 [==============================] - 0s 3ms/step - loss: 29421.0977 - mae: 153.0076\n",
            "Epoch 189/200\n",
            "27/27 [==============================] - 0s 3ms/step - loss: 29421.0977 - mae: 153.0076\n",
            "Epoch 190/200\n",
            "27/27 [==============================] - 0s 3ms/step - loss: 29421.0977 - mae: 153.0076\n",
            "Epoch 191/200\n",
            "27/27 [==============================] - 0s 3ms/step - loss: 29421.0977 - mae: 153.0076\n",
            "Epoch 192/200\n",
            "27/27 [==============================] - 0s 3ms/step - loss: 29421.0977 - mae: 153.0076\n",
            "Epoch 193/200\n",
            "27/27 [==============================] - 0s 3ms/step - loss: 29421.0977 - mae: 153.0076\n",
            "Epoch 194/200\n",
            "27/27 [==============================] - 0s 3ms/step - loss: 29421.0977 - mae: 153.0076\n",
            "Epoch 195/200\n",
            "27/27 [==============================] - 0s 3ms/step - loss: 29421.0977 - mae: 153.0076\n",
            "Epoch 196/200\n",
            "27/27 [==============================] - 0s 3ms/step - loss: 29421.0977 - mae: 153.0076\n",
            "Epoch 197/200\n",
            "27/27 [==============================] - 0s 2ms/step - loss: 29421.0977 - mae: 153.0076\n",
            "Epoch 198/200\n",
            "27/27 [==============================] - 0s 3ms/step - loss: 29421.0977 - mae: 153.0076\n",
            "Epoch 199/200\n",
            "27/27 [==============================] - 0s 3ms/step - loss: 29421.0977 - mae: 153.0076\n",
            "Epoch 200/200\n",
            "27/27 [==============================] - 0s 3ms/step - loss: 29421.0977 - mae: 153.0076\n"
          ]
        },
        {
          "output_type": "execute_result",
          "data": {
            "text/plain": [
              "<keras.callbacks.History at 0x7fe87dae4d50>"
            ]
          },
          "metadata": {},
          "execution_count": 21
        }
      ]
    },
    {
      "cell_type": "code",
      "source": [
        "ai.evaluate(xtest,ytest)"
      ],
      "metadata": {
        "colab": {
          "base_uri": "https://localhost:8080/"
        },
        "id": "SQpzZulb49kX",
        "outputId": "9526ce50-856e-4030-dc6a-7e4232c12a47"
      },
      "execution_count": 24,
      "outputs": [
        {
          "output_type": "stream",
          "name": "stdout",
          "text": [
            "2/2 [==============================] - 0s 9ms/step - loss: 23037.8008 - mae: 134.6000\n"
          ]
        },
        {
          "output_type": "execute_result",
          "data": {
            "text/plain": [
              "[23037.80078125, 134.60000610351562]"
            ]
          },
          "metadata": {},
          "execution_count": 24
        }
      ]
    }
  ]
}